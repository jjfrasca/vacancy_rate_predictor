{
 "cells": [
  {
   "cell_type": "markdown",
   "metadata": {},
   "source": [
    "# Modeling\n",
    "Goal: Build two to three different models and identify the best one. "
   ]
  },
  {
   "cell_type": "markdown",
   "metadata": {},
   "source": [
    "STEPS:\n",
    "\n",
    "● Fit your models with a training dataset\n",
    "\n",
    "● Review model outcomes — Iterate over additional models as needed\n",
    "\n",
    "● Identify the final model that you think is the best model for this project"
   ]
  },
  {
   "cell_type": "code",
   "execution_count": 1,
   "metadata": {},
   "outputs": [],
   "source": [
    "#imports\n",
    "import pandas as pd\n",
    "import numpy as np\n",
    "import os\n",
    "import matplotlib.pyplot as plt\n",
    "import seaborn as sns\n",
    "from sklearn import __version__ as sklearn_version\n",
    "from sklearn.decomposition import PCA\n",
    "from sklearn.preprocessing import scale\n",
    "from sklearn.model_selection import train_test_split, cross_validate, GridSearchCV, learning_curve, TimeSeriesSplit\n",
    "from sklearn.preprocessing import StandardScaler, MinMaxScaler\n",
    "from sklearn.dummy import DummyRegressor\n",
    "from sklearn.linear_model import LinearRegression\n",
    "from sklearn.ensemble import RandomForestRegressor\n",
    "from sklearn.metrics import r2_score, mean_squared_error, mean_absolute_error\n",
    "from sklearn.pipeline import make_pipeline\n",
    "from sklearn.impute import SimpleImputer\n",
    "from sklearn.feature_selection import SelectKBest, f_regression\n",
    "import datetime\n",
    "from pandas_profiling import ProfileReport\n",
    "import statsmodels.api as sm\n",
    "from statsmodels.graphics.tsaplots import plot_acf\n",
    "from statsmodels.graphics.tsaplots import plot_pacf\n",
    "from statsmodels.tsa.stattools import adfuller\n",
    "from statsmodels.tsa.arima_model import ARMA"
   ]
  },
  {
   "cell_type": "code",
   "execution_count": 2,
   "metadata": {},
   "outputs": [],
   "source": [
    "#load data\n",
    "path= '/Users/josephfrasca/Coding_Stuff/Springboard/Capstone_2/data/interim'\n",
    "os.chdir(path) \n",
    "DF = pd.read_csv('VacancyRate_Zipcode_AND_National_2011_2020.csv',  dtype={'Zipcode': object}, parse_dates=['Year'])"
   ]
  },
  {
   "cell_type": "code",
   "execution_count": 3,
   "metadata": {},
   "outputs": [
    {
     "data": {
      "text/html": [
       "<div>\n",
       "<style scoped>\n",
       "    .dataframe tbody tr th:only-of-type {\n",
       "        vertical-align: middle;\n",
       "    }\n",
       "\n",
       "    .dataframe tbody tr th {\n",
       "        vertical-align: top;\n",
       "    }\n",
       "\n",
       "    .dataframe thead th {\n",
       "        text-align: right;\n",
       "    }\n",
       "</style>\n",
       "<table border=\"1\" class=\"dataframe\">\n",
       "  <thead>\n",
       "    <tr style=\"text-align: right;\">\n",
       "      <th></th>\n",
       "      <th>Zipcode</th>\n",
       "      <th>Vacancy_Rate%</th>\n",
       "      <th>MOE-VacancyRate%</th>\n",
       "    </tr>\n",
       "    <tr>\n",
       "      <th>Year</th>\n",
       "      <th></th>\n",
       "      <th></th>\n",
       "      <th></th>\n",
       "    </tr>\n",
       "  </thead>\n",
       "  <tbody>\n",
       "    <tr>\n",
       "      <th>2011-01-01</th>\n",
       "      <td>02333</td>\n",
       "      <td>3.024027</td>\n",
       "      <td>2.199925</td>\n",
       "    </tr>\n",
       "    <tr>\n",
       "      <th>2011-01-01</th>\n",
       "      <td>02338</td>\n",
       "      <td>3.116343</td>\n",
       "      <td>2.948791</td>\n",
       "    </tr>\n",
       "    <tr>\n",
       "      <th>2011-01-01</th>\n",
       "      <td>02339</td>\n",
       "      <td>4.464646</td>\n",
       "      <td>2.066438</td>\n",
       "    </tr>\n",
       "    <tr>\n",
       "      <th>2011-01-01</th>\n",
       "      <td>02341</td>\n",
       "      <td>3.586322</td>\n",
       "      <td>2.340722</td>\n",
       "    </tr>\n",
       "    <tr>\n",
       "      <th>2011-01-01</th>\n",
       "      <td>02343</td>\n",
       "      <td>3.732901</td>\n",
       "      <td>2.926524</td>\n",
       "    </tr>\n",
       "  </tbody>\n",
       "</table>\n",
       "</div>"
      ],
      "text/plain": [
       "           Zipcode  Vacancy_Rate%  MOE-VacancyRate%\n",
       "Year                                               \n",
       "2011-01-01   02333       3.024027          2.199925\n",
       "2011-01-01   02338       3.116343          2.948791\n",
       "2011-01-01   02339       4.464646          2.066438\n",
       "2011-01-01   02341       3.586322          2.340722\n",
       "2011-01-01   02343       3.732901          2.926524"
      ]
     },
     "execution_count": 3,
     "metadata": {},
     "output_type": "execute_result"
    }
   ],
   "source": [
    "#Create a new dataframe, setting the index to 'Year'\n",
    "df = DF.set_index('Year')\n",
    "#Save the DATE labels \n",
    "df_index = df.index\n",
    "#Save the column names\n",
    "df_columns = df.columns\n",
    "df.head()"
   ]
  },
  {
   "cell_type": "code",
   "execution_count": 4,
   "metadata": {},
   "outputs": [],
   "source": [
    "#add leading zeros to zipcode\n",
    "df['Zipcode'] = df['Zipcode'].apply(lambda x: '{0:0>5}'.format(x))"
   ]
  },
  {
   "cell_type": "code",
   "execution_count": 5,
   "metadata": {},
   "outputs": [
    {
     "data": {
      "text/plain": [
       "Zipcode               int64\n",
       "Vacancy_Rate%       float64\n",
       "MOE-VacancyRate%    float64\n",
       "dtype: object"
      ]
     },
     "execution_count": 5,
     "metadata": {},
     "output_type": "execute_result"
    }
   ],
   "source": [
    "#change National ('NATNL') zipcode to '99999' for later modeling\n",
    "df.Zipcode.replace('NATNL', '99999', inplace=True)\n",
    "df.Zipcode = df.Zipcode.astype('int')\n",
    "df.dtypes"
   ]
  },
  {
   "cell_type": "code",
   "execution_count": 6,
   "metadata": {},
   "outputs": [
    {
     "name": "stdout",
     "output_type": "stream",
     "text": [
      "train size: 231848.75 test size: 33121.25\n"
     ]
    }
   ],
   "source": [
    "#check partition sizes with a 8 fold split train/test time series split for all DataFrames\n",
    "print('train size:', len(df) * .875, 'test size:', len(df) * .125)"
   ]
  },
  {
   "cell_type": "code",
   "execution_count": 7,
   "metadata": {},
   "outputs": [],
   "source": [
    "#separate 2020 data from data set for later use and prediction\n",
    "df_2019AND20 = df[df.index > '2018']\n",
    "df = df[df.index < '2019']"
   ]
  },
  {
   "cell_type": "code",
   "execution_count": 8,
   "metadata": {},
   "outputs": [],
   "source": [
    "#arange by zipcode and year\n",
    "#df = df.sort_values(by=['Zipcode', 'Year'])"
   ]
  },
  {
   "cell_type": "code",
   "execution_count": 9,
   "metadata": {},
   "outputs": [
    {
     "data": {
      "text/html": [
       "<div>\n",
       "<style scoped>\n",
       "    .dataframe tbody tr th:only-of-type {\n",
       "        vertical-align: middle;\n",
       "    }\n",
       "\n",
       "    .dataframe tbody tr th {\n",
       "        vertical-align: top;\n",
       "    }\n",
       "\n",
       "    .dataframe thead th {\n",
       "        text-align: right;\n",
       "    }\n",
       "</style>\n",
       "<table border=\"1\" class=\"dataframe\">\n",
       "  <thead>\n",
       "    <tr style=\"text-align: right;\">\n",
       "      <th></th>\n",
       "      <th>Zipcode</th>\n",
       "      <th>Vacancy_Rate%</th>\n",
       "      <th>MOE-VacancyRate%</th>\n",
       "    </tr>\n",
       "    <tr>\n",
       "      <th>Year</th>\n",
       "      <th></th>\n",
       "      <th></th>\n",
       "      <th></th>\n",
       "    </tr>\n",
       "  </thead>\n",
       "  <tbody>\n",
       "    <tr>\n",
       "      <th>2011-01-01</th>\n",
       "      <td>02333</td>\n",
       "      <td>3.024027</td>\n",
       "      <td>2.199925</td>\n",
       "    </tr>\n",
       "    <tr>\n",
       "      <th>2011-01-01</th>\n",
       "      <td>02338</td>\n",
       "      <td>3.116343</td>\n",
       "      <td>2.948791</td>\n",
       "    </tr>\n",
       "    <tr>\n",
       "      <th>2011-01-01</th>\n",
       "      <td>02339</td>\n",
       "      <td>4.464646</td>\n",
       "      <td>2.066438</td>\n",
       "    </tr>\n",
       "    <tr>\n",
       "      <th>2011-01-01</th>\n",
       "      <td>02341</td>\n",
       "      <td>3.586322</td>\n",
       "      <td>2.340722</td>\n",
       "    </tr>\n",
       "    <tr>\n",
       "      <th>2011-01-01</th>\n",
       "      <td>02343</td>\n",
       "      <td>3.732901</td>\n",
       "      <td>2.926524</td>\n",
       "    </tr>\n",
       "    <tr>\n",
       "      <th>...</th>\n",
       "      <td>...</td>\n",
       "      <td>...</td>\n",
       "      <td>...</td>\n",
       "    </tr>\n",
       "    <tr>\n",
       "      <th>2014-01-01</th>\n",
       "      <td>99999</td>\n",
       "      <td>7.550000</td>\n",
       "      <td>0.000000</td>\n",
       "    </tr>\n",
       "    <tr>\n",
       "      <th>2015-01-01</th>\n",
       "      <td>99999</td>\n",
       "      <td>7.050000</td>\n",
       "      <td>0.000000</td>\n",
       "    </tr>\n",
       "    <tr>\n",
       "      <th>2016-01-01</th>\n",
       "      <td>99999</td>\n",
       "      <td>6.850000</td>\n",
       "      <td>0.000000</td>\n",
       "    </tr>\n",
       "    <tr>\n",
       "      <th>2017-01-01</th>\n",
       "      <td>99999</td>\n",
       "      <td>7.175000</td>\n",
       "      <td>0.000000</td>\n",
       "    </tr>\n",
       "    <tr>\n",
       "      <th>2018-01-01</th>\n",
       "      <td>99999</td>\n",
       "      <td>6.875000</td>\n",
       "      <td>0.000000</td>\n",
       "    </tr>\n",
       "  </tbody>\n",
       "</table>\n",
       "<p>264968 rows × 3 columns</p>\n",
       "</div>"
      ],
      "text/plain": [
       "           Zipcode  Vacancy_Rate%  MOE-VacancyRate%\n",
       "Year                                               \n",
       "2011-01-01   02333       3.024027          2.199925\n",
       "2011-01-01   02338       3.116343          2.948791\n",
       "2011-01-01   02339       4.464646          2.066438\n",
       "2011-01-01   02341       3.586322          2.340722\n",
       "2011-01-01   02343       3.732901          2.926524\n",
       "...            ...            ...               ...\n",
       "2014-01-01   99999       7.550000          0.000000\n",
       "2015-01-01   99999       7.050000          0.000000\n",
       "2016-01-01   99999       6.850000          0.000000\n",
       "2017-01-01   99999       7.175000          0.000000\n",
       "2018-01-01   99999       6.875000          0.000000\n",
       "\n",
       "[264968 rows x 3 columns]"
      ]
     },
     "execution_count": 9,
     "metadata": {},
     "output_type": "execute_result"
    }
   ],
   "source": [
    "#add leading zeros to zipcode\n",
    "df['Zipcode'] = df['Zipcode'].apply(lambda x: '{0:0>5}'.format(x))\n",
    "df"
   ]
  },
  {
   "cell_type": "code",
   "execution_count": 10,
   "metadata": {},
   "outputs": [
    {
     "data": {
      "text/html": [
       "<div>\n",
       "<style scoped>\n",
       "    .dataframe tbody tr th:only-of-type {\n",
       "        vertical-align: middle;\n",
       "    }\n",
       "\n",
       "    .dataframe tbody tr th {\n",
       "        vertical-align: top;\n",
       "    }\n",
       "\n",
       "    .dataframe thead th {\n",
       "        text-align: right;\n",
       "    }\n",
       "</style>\n",
       "<table border=\"1\" class=\"dataframe\">\n",
       "  <thead>\n",
       "    <tr style=\"text-align: right;\">\n",
       "      <th></th>\n",
       "      <th>const</th>\n",
       "      <th>Zipcode</th>\n",
       "      <th>Vacancy_Rate%</th>\n",
       "      <th>Vacancy_Rate%_Change</th>\n",
       "    </tr>\n",
       "    <tr>\n",
       "      <th>Year</th>\n",
       "      <th></th>\n",
       "      <th></th>\n",
       "      <th></th>\n",
       "      <th></th>\n",
       "    </tr>\n",
       "  </thead>\n",
       "  <tbody>\n",
       "    <tr>\n",
       "      <th>2011-01-01</th>\n",
       "      <td>1.0</td>\n",
       "      <td>02333</td>\n",
       "      <td>3.024027</td>\n",
       "      <td>NaN</td>\n",
       "    </tr>\n",
       "    <tr>\n",
       "      <th>2011-01-01</th>\n",
       "      <td>1.0</td>\n",
       "      <td>02338</td>\n",
       "      <td>3.116343</td>\n",
       "      <td>0.030528</td>\n",
       "    </tr>\n",
       "    <tr>\n",
       "      <th>2011-01-01</th>\n",
       "      <td>1.0</td>\n",
       "      <td>02339</td>\n",
       "      <td>4.464646</td>\n",
       "      <td>0.432655</td>\n",
       "    </tr>\n",
       "    <tr>\n",
       "      <th>2011-01-01</th>\n",
       "      <td>1.0</td>\n",
       "      <td>02341</td>\n",
       "      <td>3.586322</td>\n",
       "      <td>-0.196729</td>\n",
       "    </tr>\n",
       "    <tr>\n",
       "      <th>2011-01-01</th>\n",
       "      <td>1.0</td>\n",
       "      <td>02343</td>\n",
       "      <td>3.732901</td>\n",
       "      <td>0.040872</td>\n",
       "    </tr>\n",
       "    <tr>\n",
       "      <th>...</th>\n",
       "      <td>...</td>\n",
       "      <td>...</td>\n",
       "      <td>...</td>\n",
       "      <td>...</td>\n",
       "    </tr>\n",
       "    <tr>\n",
       "      <th>2014-01-01</th>\n",
       "      <td>1.0</td>\n",
       "      <td>99999</td>\n",
       "      <td>7.550000</td>\n",
       "      <td>-0.093093</td>\n",
       "    </tr>\n",
       "    <tr>\n",
       "      <th>2015-01-01</th>\n",
       "      <td>1.0</td>\n",
       "      <td>99999</td>\n",
       "      <td>7.050000</td>\n",
       "      <td>-0.066225</td>\n",
       "    </tr>\n",
       "    <tr>\n",
       "      <th>2016-01-01</th>\n",
       "      <td>1.0</td>\n",
       "      <td>99999</td>\n",
       "      <td>6.850000</td>\n",
       "      <td>-0.028369</td>\n",
       "    </tr>\n",
       "    <tr>\n",
       "      <th>2017-01-01</th>\n",
       "      <td>1.0</td>\n",
       "      <td>99999</td>\n",
       "      <td>7.175000</td>\n",
       "      <td>0.047445</td>\n",
       "    </tr>\n",
       "    <tr>\n",
       "      <th>2018-01-01</th>\n",
       "      <td>1.0</td>\n",
       "      <td>99999</td>\n",
       "      <td>6.875000</td>\n",
       "      <td>-0.041812</td>\n",
       "    </tr>\n",
       "  </tbody>\n",
       "</table>\n",
       "<p>264968 rows × 4 columns</p>\n",
       "</div>"
      ],
      "text/plain": [
       "            const Zipcode  Vacancy_Rate%  Vacancy_Rate%_Change\n",
       "Year                                                          \n",
       "2011-01-01    1.0   02333       3.024027                   NaN\n",
       "2011-01-01    1.0   02338       3.116343              0.030528\n",
       "2011-01-01    1.0   02339       4.464646              0.432655\n",
       "2011-01-01    1.0   02341       3.586322             -0.196729\n",
       "2011-01-01    1.0   02343       3.732901              0.040872\n",
       "...           ...     ...            ...                   ...\n",
       "2014-01-01    1.0   99999       7.550000             -0.093093\n",
       "2015-01-01    1.0   99999       7.050000             -0.066225\n",
       "2016-01-01    1.0   99999       6.850000             -0.028369\n",
       "2017-01-01    1.0   99999       7.175000              0.047445\n",
       "2018-01-01    1.0   99999       6.875000             -0.041812\n",
       "\n",
       "[264968 rows x 4 columns]"
      ]
     },
     "execution_count": 10,
     "metadata": {},
     "output_type": "execute_result"
    }
   ],
   "source": [
    "#compute percentage change\n",
    "df['Vacancy_Rate%_Change'] = df['Vacancy_Rate%'].pct_change()\n",
    "#drop MOE (Margin of Error) column\n",
    "df = df.drop('MOE-VacancyRate%', axis=1)\n",
    "#add a constant to the DataFrame for the regression intercept\n",
    "df = sm.add_constant(df)\n",
    "df"
   ]
  },
  {
   "cell_type": "code",
   "execution_count": 11,
   "metadata": {},
   "outputs": [
    {
     "data": {
      "text/plain": [
       "const                      0\n",
       "Zipcode                    0\n",
       "Vacancy_Rate%              0\n",
       "Vacancy_Rate%_Change    1966\n",
       "dtype: int64"
      ]
     },
     "execution_count": 11,
     "metadata": {},
     "output_type": "execute_result"
    }
   ],
   "source": [
    "df.isna().sum()"
   ]
  },
  {
   "cell_type": "code",
   "execution_count": 12,
   "metadata": {},
   "outputs": [
    {
     "data": {
      "text/html": [
       "<div>\n",
       "<style scoped>\n",
       "    .dataframe tbody tr th:only-of-type {\n",
       "        vertical-align: middle;\n",
       "    }\n",
       "\n",
       "    .dataframe tbody tr th {\n",
       "        vertical-align: top;\n",
       "    }\n",
       "\n",
       "    .dataframe thead th {\n",
       "        text-align: right;\n",
       "    }\n",
       "</style>\n",
       "<table border=\"1\" class=\"dataframe\">\n",
       "  <thead>\n",
       "    <tr style=\"text-align: right;\">\n",
       "      <th></th>\n",
       "      <th>const</th>\n",
       "      <th>Zipcode</th>\n",
       "      <th>Vacancy_Rate%</th>\n",
       "      <th>Vacancy_Rate%_Change</th>\n",
       "    </tr>\n",
       "    <tr>\n",
       "      <th>Year</th>\n",
       "      <th></th>\n",
       "      <th></th>\n",
       "      <th></th>\n",
       "      <th></th>\n",
       "    </tr>\n",
       "  </thead>\n",
       "  <tbody>\n",
       "    <tr>\n",
       "      <th>2011-01-01</th>\n",
       "      <td>1.0</td>\n",
       "      <td>02338</td>\n",
       "      <td>3.116343</td>\n",
       "      <td>0.030528</td>\n",
       "    </tr>\n",
       "    <tr>\n",
       "      <th>2011-01-01</th>\n",
       "      <td>1.0</td>\n",
       "      <td>02339</td>\n",
       "      <td>4.464646</td>\n",
       "      <td>0.432655</td>\n",
       "    </tr>\n",
       "    <tr>\n",
       "      <th>2011-01-01</th>\n",
       "      <td>1.0</td>\n",
       "      <td>02341</td>\n",
       "      <td>3.586322</td>\n",
       "      <td>-0.196729</td>\n",
       "    </tr>\n",
       "    <tr>\n",
       "      <th>2011-01-01</th>\n",
       "      <td>1.0</td>\n",
       "      <td>02343</td>\n",
       "      <td>3.732901</td>\n",
       "      <td>0.040872</td>\n",
       "    </tr>\n",
       "    <tr>\n",
       "      <th>2011-01-01</th>\n",
       "      <td>1.0</td>\n",
       "      <td>02346</td>\n",
       "      <td>7.960256</td>\n",
       "      <td>1.132459</td>\n",
       "    </tr>\n",
       "    <tr>\n",
       "      <th>...</th>\n",
       "      <td>...</td>\n",
       "      <td>...</td>\n",
       "      <td>...</td>\n",
       "      <td>...</td>\n",
       "    </tr>\n",
       "    <tr>\n",
       "      <th>2014-01-01</th>\n",
       "      <td>1.0</td>\n",
       "      <td>99999</td>\n",
       "      <td>7.550000</td>\n",
       "      <td>-0.093093</td>\n",
       "    </tr>\n",
       "    <tr>\n",
       "      <th>2015-01-01</th>\n",
       "      <td>1.0</td>\n",
       "      <td>99999</td>\n",
       "      <td>7.050000</td>\n",
       "      <td>-0.066225</td>\n",
       "    </tr>\n",
       "    <tr>\n",
       "      <th>2016-01-01</th>\n",
       "      <td>1.0</td>\n",
       "      <td>99999</td>\n",
       "      <td>6.850000</td>\n",
       "      <td>-0.028369</td>\n",
       "    </tr>\n",
       "    <tr>\n",
       "      <th>2017-01-01</th>\n",
       "      <td>1.0</td>\n",
       "      <td>99999</td>\n",
       "      <td>7.175000</td>\n",
       "      <td>0.047445</td>\n",
       "    </tr>\n",
       "    <tr>\n",
       "      <th>2018-01-01</th>\n",
       "      <td>1.0</td>\n",
       "      <td>99999</td>\n",
       "      <td>6.875000</td>\n",
       "      <td>-0.041812</td>\n",
       "    </tr>\n",
       "  </tbody>\n",
       "</table>\n",
       "<p>263002 rows × 4 columns</p>\n",
       "</div>"
      ],
      "text/plain": [
       "            const Zipcode  Vacancy_Rate%  Vacancy_Rate%_Change\n",
       "Year                                                          \n",
       "2011-01-01    1.0   02338       3.116343              0.030528\n",
       "2011-01-01    1.0   02339       4.464646              0.432655\n",
       "2011-01-01    1.0   02341       3.586322             -0.196729\n",
       "2011-01-01    1.0   02343       3.732901              0.040872\n",
       "2011-01-01    1.0   02346       7.960256              1.132459\n",
       "...           ...     ...            ...                   ...\n",
       "2014-01-01    1.0   99999       7.550000             -0.093093\n",
       "2015-01-01    1.0   99999       7.050000             -0.066225\n",
       "2016-01-01    1.0   99999       6.850000             -0.028369\n",
       "2017-01-01    1.0   99999       7.175000              0.047445\n",
       "2018-01-01    1.0   99999       6.875000             -0.041812\n",
       "\n",
       "[263002 rows x 4 columns]"
      ]
     },
     "execution_count": 12,
     "metadata": {},
     "output_type": "execute_result"
    }
   ],
   "source": [
    "#delete the first row of NaN\n",
    "df = df.dropna()\n",
    "df"
   ]
  },
  {
   "cell_type": "code",
   "execution_count": 13,
   "metadata": {},
   "outputs": [
    {
     "name": "stderr",
     "output_type": "stream",
     "text": [
      "/opt/anaconda3/lib/python3.7/site-packages/pandas/core/generic.py:5159: SettingWithCopyWarning: \n",
      "A value is trying to be set on a copy of a slice from a DataFrame.\n",
      "Try using .loc[row_indexer,col_indexer] = value instead\n",
      "\n",
      "See the caveats in the documentation: https://pandas.pydata.org/pandas-docs/stable/user_guide/indexing.html#returning-a-view-versus-a-copy\n",
      "  self[name] = value\n"
     ]
    },
    {
     "data": {
      "text/plain": [
       "const                   float64\n",
       "Zipcode                   int64\n",
       "Vacancy_Rate%           float64\n",
       "Vacancy_Rate%_Change    float64\n",
       "dtype: object"
      ]
     },
     "execution_count": 13,
     "metadata": {},
     "output_type": "execute_result"
    }
   ],
   "source": [
    "#change Zipcode to dtype integer\n",
    "df.Zipcode = df.Zipcode.astype('int')\n",
    "df.dtypes"
   ]
  },
  {
   "cell_type": "code",
   "execution_count": 14,
   "metadata": {},
   "outputs": [],
   "source": [
    "#run the regression (not effective)\n",
    "\n",
    "#results = sm.OLS(df['Vacancy_Rate%_Change'],df[['const', 'Zipcode']]).fit()\n",
    "#print(results.summary())"
   ]
  },
  {
   "cell_type": "code",
   "execution_count": 15,
   "metadata": {},
   "outputs": [
    {
     "name": "stdout",
     "output_type": "stream",
     "text": [
      "The autocorrelation is:  0.2758303730509692\n"
     ]
    }
   ],
   "source": [
    "#compute autocorrelation\n",
    "autocorrelation = df['Vacancy_Rate%'].autocorr()\n",
    "print('The autocorrelation is: ', autocorrelation)"
   ]
  },
  {
   "cell_type": "code",
   "execution_count": 16,
   "metadata": {
    "scrolled": true
   },
   "outputs": [
    {
     "data": {
      "image/png": "[encoded data removed]",
      "text/plain": [
       "<Figure size 576x396 with 1 Axes>"
      ]
     },
     "execution_count": 16,
     "metadata": {},
     "output_type": "execute_result"
    },
    {
     "data": {
      "image/png": "[encoded data removed]",
      "text/plain": [
       "<Figure size 576x396 with 1 Axes>"
      ]
     },
     "metadata": {},
     "output_type": "display_data"
    }
   ],
   "source": [
    "#plot the acf\n",
    "plot_acf(df['Vacancy_Rate%'], lags=20, alpha=0.05)"
   ]
  },
  {
   "cell_type": "code",
   "execution_count": 17,
   "metadata": {},
   "outputs": [
    {
     "name": "stdout",
     "output_type": "stream",
     "text": [
      "0.0\n"
     ]
    }
   ],
   "source": [
    "#run augmented dickey-fuller test on Vacancy Rate data\n",
    "results = adfuller(df['Vacancy_Rate%'])\n",
    "print(results[1])"
   ]
  },
  {
   "cell_type": "code",
   "execution_count": 18,
   "metadata": {},
   "outputs": [
    {
     "data": {
      "text/plain": [
       "[<matplotlib.lines.Line2D at 0x1a28603cd0>]"
      ]
     },
     "execution_count": 18,
     "metadata": {},
     "output_type": "execute_result"
    },
    {
     "data": {
      "image/png": "[encoded data removed]",
      "text/plain": [
       "<Figure size 576x396 with 1 Axes>"
      ]
     },
     "metadata": {},
     "output_type": "display_data"
    }
   ],
   "source": [
    "#plot vacacny rate\n",
    "plt.plot(df['Vacancy_Rate%'])"
   ]
  },
  {
   "cell_type": "code",
   "execution_count": 19,
   "metadata": {},
   "outputs": [
    {
     "data": {
      "text/plain": [
       "[<matplotlib.lines.Line2D at 0x1a2861cf50>]"
      ]
     },
     "execution_count": 19,
     "metadata": {},
     "output_type": "execute_result"
    },
    {
     "data": {
      "image/png": "[encoded data removed]",
      "text/plain": [
       "<Figure size 576x396 with 1 Axes>"
      ]
     },
     "metadata": {},
     "output_type": "display_data"
    }
   ],
   "source": [
    "#plot vacancy rate change\n",
    "plt.plot(df['Vacancy_Rate%_Change'])"
   ]
  },
  {
   "cell_type": "markdown",
   "metadata": {},
   "source": [
    "## Fit your models with a training dataset\n",
    "Hint: Try a number of different models: you will want to compare their outputs in the\n",
    "model evaluation stage. For example, if you’re writing a classification model, you should\n",
    "implement both an entropy model and a Gini impurity model. For hyperparameter tuning,\n",
    "think of methods like cross-validation ."
   ]
  },
  {
   "cell_type": "code",
   "execution_count": 20,
   "metadata": {},
   "outputs": [
    {
     "name": "stderr",
     "output_type": "stream",
     "text": [
      "/opt/anaconda3/lib/python3.7/site-packages/statsmodels/tsa/base/tsa_model.py:218: ValueWarning: A date index has been provided, but it has no associated frequency information and so will be ignored when e.g. forecasting.\n",
      "  ' ignored when e.g. forecasting.', ValueWarning)\n",
      "/opt/anaconda3/lib/python3.7/site-packages/statsmodels/tsa/base/tsa_model.py:222: ValueWarning: A date index has been provided, but it is not monotonic and so will be ignored when e.g. forecasting.\n",
      "  ' forecasting.', ValueWarning)\n"
     ]
    },
    {
     "name": "stdout",
     "output_type": "stream",
     "text": [
      "                              ARMA Model Results                              \n",
      "==============================================================================\n",
      "Dep. Variable:          Vacancy_Rate%   No. Observations:               263002\n",
      "Model:                     ARMA(1, 0)   Log Likelihood            -1098911.861\n",
      "Method:                       css-mle   S.D. of innovations             15.790\n",
      "Date:                Wed, 18 Nov 2020   AIC                        2197829.721\n",
      "Time:                        11:14:55   BIC                        2197861.161\n",
      "Sample:                             0   HQIC                       2197838.866\n",
      "                                                                              \n",
      "=======================================================================================\n",
      "                          coef    std err          z      P>|z|      [0.025      0.975]\n",
      "---------------------------------------------------------------------------------------\n",
      "const                  17.8069      0.043    418.809      0.000      17.724      17.890\n",
      "ar.L1.Vacancy_Rate%     0.2758      0.002    147.165      0.000       0.272       0.280\n",
      "                                    Roots                                    \n",
      "=============================================================================\n",
      "                  Real          Imaginary           Modulus         Frequency\n",
      "-----------------------------------------------------------------------------\n",
      "AR.1            3.6254           +0.0000j            3.6254            0.0000\n",
      "-----------------------------------------------------------------------------\n"
     ]
    }
   ],
   "source": [
    "#estimating an AR model\n",
    "#esitmate parameters from data\n",
    "mod = ARMA(df['Vacancy_Rate%'], order=(1, 0))\n",
    "res = mod.fit()\n",
    "print(res.summary())"
   ]
  },
  {
   "cell_type": "code",
   "execution_count": 21,
   "metadata": {},
   "outputs": [
    {
     "data": {
      "image/png": "[encoded data removed]",
      "text/plain": [
       "<Figure size 576x396 with 1 Axes>"
      ]
     },
     "metadata": {},
     "output_type": "display_data"
    }
   ],
   "source": [
    "#forecasting an AR Model\n",
    "res.plot_predict(start='2011-01-01', end='2018-01-01')\n",
    "plt.show()"
   ]
  },
  {
   "cell_type": "code",
   "execution_count": 22,
   "metadata": {},
   "outputs": [
    {
     "data": {
      "image/png": "[encoded data removed]",
      "text/plain": [
       "<Figure size 576x396 with 1 Axes>"
      ]
     },
     "execution_count": 22,
     "metadata": {},
     "output_type": "execute_result"
    },
    {
     "data": {
      "image/png": "[encoded data removed]",
      "text/plain": [
       "<Figure size 576x396 with 1 Axes>"
      ]
     },
     "metadata": {},
     "output_type": "display_data"
    }
   ],
   "source": [
    "#plot PACF\n",
    "plot_pacf(df['Vacancy_Rate%'], lags=20, alpha=0.05)"
   ]
  },
  {
   "cell_type": "markdown",
   "metadata": {},
   "source": [
    "## Review model outcomes — Iterate over additional models as needed \n",
    "Hint: you may want to use standard model evaluation metrics such as accuracy, recall,\n",
    "precision, and F1."
   ]
  },
  {
   "cell_type": "markdown",
   "metadata": {},
   "source": [
    "## Identify the final model that you think is the best model for this project\n",
    "Hint: the most powerful model isn’t always the best one to use. Other considerations\n",
    "include computational complexity, scalability, and maintenance costs.\n"
   ]
  },
  {
   "cell_type": "code",
   "execution_count": null,
   "metadata": {},
   "outputs": [],
   "source": [
    "#decided not to use time series model, because with an annual time series model for 2011-2018 there are only 7 data points for each zipcode"
   ]
  },
  {
   "cell_type": "markdown",
   "metadata": {},
   "source": [
    "## Summary/Reflection\n",
    "Review the following questions and apply them to your analysis:\n",
    "    \n",
    "● Does my data involve a time series or forecasting? If so, am I splitting the train and test data appropriately?\n",
    "\n",
    "● Is my response variable continuous or categorical? "
   ]
  },
  {
   "cell_type": "markdown",
   "metadata": {},
   "source": [
    "- loaded and cleaned data for modeling\n",
    "- computed pct_change and added a constant to the DataFrame for the regression intercept\n",
    "- deleted the first row of NaN and dropped the Margin of Error (MOE Vacancy rate) column\n",
    "- changed zipcode to an integer\n",
    "- ran OLS regression with vacancy rate pct_change but the coef and std error were both nan\n",
    "- decided to try only vacancy_rate as when ran the dickey-fuller test before it seemed to already be a stationary objects. Implying that calculating percent change may not be neccessary.\n",
    "\n",
    "Using Vacancy Rate:\n",
    "- Used vacancy rate to compute autocorrelation:  0.2758303730509692 and plotted autocorrelation function\n",
    "- ran the dickey fuller test and got 0.0\n",
    "- plotted vacancy rate and vacancy rate change to inpsect further\n",
    "- estimated an AR model esitmated parameters from data. \n",
    "    - coef const: 17.8, coef ar.L1.Vacancy_Rate: .28\n",
    "    - std. error const: 0.043, std. error ar.L1.Vacancy_Rate: 0.002\n",
    "    - AIC 2197829.721\n",
    "    - BIC 2197861.161\n",
    "- **decided not to use time series model, because with an annual time series model for 2011-2018 there are only 7 data points for each zipcode**"
   ]
  },
  {
   "cell_type": "code",
   "execution_count": null,
   "metadata": {},
   "outputs": [],
   "source": []
  }
 ],
 "metadata": {
  "kernelspec": {
   "display_name": "Python 3",
   "language": "python",
   "name": "python3"
  },
  "language_info": {
   "codemirror_mode": {
    "name": "ipython",
    "version": 3
   },
   "file_extension": ".py",
   "mimetype": "text/x-python",
   "name": "python",
   "nbconvert_exporter": "python",
   "pygments_lexer": "ipython3",
   "version": "3.7.6"
  }
 },
 "nbformat": 4,
 "nbformat_minor": 4
}
